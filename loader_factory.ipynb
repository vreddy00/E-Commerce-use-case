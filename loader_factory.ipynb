{
 "cells": [
  {
   "cell_type": "code",
   "execution_count": 0,
   "metadata": {
    "application/vnd.databricks.v1+cell": {
     "cellMetadata": {
      "byteLimit": 2048000,
      "rowLimit": 10000
     },
     "inputWidgets": {},
     "nuid": "f768cecd-1f3e-4f8e-a2f0-f13e640901ff",
     "showTitle": false,
     "tableResultSettingsMap": {},
     "title": ""
    }
   },
   "outputs": [],
   "source": [
    "class DataSink:\n",
    "    \"\"\"abstract method\"\"\"\n",
    "    def __init__(self, df, path, method, params):\n",
    "        self.df=df\n",
    "        self.path=path\n",
    "        self.method=method\n",
    "        self.params=params\n",
    "\n",
    "    def loadDataFrame(path):\n",
    "        \"\"\"Abstract method\"\"\"\n",
    "        raise ValueError(\"Not Implemented\")\n",
    "\n",
    "class loadToDBFS(DataSink):\n",
    "    def loadDataFrame(self):\n",
    "        self.df.write.mode(self.method).save(self.path)\n",
    "\n",
    "class loadToDBFSW(DataSink):\n",
    "    def loadDataFrame(self):\n",
    "        partitionByColumns = self.params.get(\"partitionByColumns\")\n",
    "        self.df.write.mode(self.method).partitionBy(*partitionByColumns).save(self.path)\n",
    "\n",
    "class loadToDeltaTable(DataSink):\n",
    "    def loadDataFrame(self):\n",
    "        self.df.write.mode(self.method).saveAsTable(self.path)\n",
    "\n",
    "def getSinkSource(sinkType,df ,path, method, params=None):\n",
    "    if sinkType==\"dbfs\":\n",
    "        return loadToDBFS(df ,path, method, params)\n",
    "    elif sinkType==\"dbfs_partition\":\n",
    "        return loadToDBFSW(df ,path, method, params)\n",
    "    elif sinkType==\"delta\":\n",
    "        return loadToDeltaTable(df ,path, method, params)\n",
    "    else:\n",
    "        raise ValueError(f\"IDatatype not supported:{sinkType}\")\n",
    "\n",
    "\n"
   ]
  },
  {
   "cell_type": "code",
   "execution_count": 0,
   "metadata": {
    "application/vnd.databricks.v1+cell": {
     "cellMetadata": {},
     "inputWidgets": {},
     "nuid": "4066e631-d11c-404f-ab54-5eed25e267b5",
     "showTitle": false,
     "tableResultSettingsMap": {},
     "title": ""
    }
   },
   "outputs": [],
   "source": []
  }
 ],
 "metadata": {
  "application/vnd.databricks.v1+notebook": {
   "computePreferences": null,
   "dashboards": [],
   "environmentMetadata": {
    "base_environment": "",
    "environment_version": "2"
   },
   "language": "python",
   "notebookMetadata": {
    "pythonIndentUnit": 4
   },
   "notebookName": "loader_factory",
   "widgets": {}
  },
  "language_info": {
   "name": "python"
  }
 },
 "nbformat": 4,
 "nbformat_minor": 0
}
