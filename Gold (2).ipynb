{
 "cells": [
  {
   "cell_type": "code",
   "execution_count": 0,
   "metadata": {
    "application/vnd.databricks.v1+cell": {
     "cellMetadata": {
      "byteLimit": 2048000,
      "implicitDf": true,
      "rowLimit": 10000
     },
     "inputWidgets": {},
     "nuid": "7528edbf-cab1-497d-ad84-27195cc319eb",
     "showTitle": false,
     "tableResultSettingsMap": {},
     "title": ""
    }
   },
   "outputs": [],
   "source": [
    "%run \"./Silver\""
   ]
  },
  {
   "cell_type": "code",
   "execution_count": 0,
   "metadata": {
    "application/vnd.databricks.v1+cell": {
     "cellMetadata": {
      "byteLimit": 2048000,
      "rowLimit": 10000
     },
     "inputWidgets": {},
     "nuid": "9d69fda1-7584-4df8-899d-cf2cc57d75df",
     "showTitle": false,
     "tableResultSettingsMap": {},
     "title": ""
    }
   },
   "outputs": [],
   "source": [
    "source_path = \"abfss://stream-data@ecommerceproject2.dfs.core.windows.net/\"\n",
    "bronze_table_path = \"abfss://bronze@ecommerceproject2.dfs.core.windows.net/orders\"\n",
    "delta_table_path=\"abfss://bronze@ecommerceproject2.dfs.core.windows.net/orders/delta_table/\"\n",
    "silver_table_path = \"abfss://silver@ecommerceproject2.dfs.core.windows.net/orders/\""
   ]
  },
  {
   "cell_type": "code",
   "execution_count": 0,
   "metadata": {
    "application/vnd.databricks.v1+cell": {
     "cellMetadata": {
      "byteLimit": 2048000,
      "rowLimit": 10000
     },
     "inputWidgets": {},
     "nuid": "d72abd8a-8cb0-41a7-965f-1f9e6c357826",
     "showTitle": false,
     "tableResultSettingsMap": {},
     "title": ""
    }
   },
   "outputs": [],
   "source": [
    "extractor = Order_items()\n",
    "orderitemDf = extractor.extract()\n",
    "\n",
    "extractor = Products_Category()\n",
    "productcatDf = extractor.extract()\n",
    "\n",
    "extractor = Products()\n",
    "productDf = extractor.extract()\n",
    "\n",
    "extractor=Customers()\n",
    "customerDf = extractor.extract()\n",
    "\n",
    "extractor=Geolocation()\n",
    "geoDf=extractor.extract()\n",
    "\n",
    "extractor=Sellers()\n",
    "sellerDf=extractor.extract()\n",
    "\n",
    "extractor=Payments()\n",
    "paymentDf=extractor.extract()\n",
    "\n",
    "extractor = StreamingProcessor(source_path, bronze_table_path)\n",
    "orderDf = extractor.start_streaming_job()\n",
    "orderDf.awaitTermination(30)"
   ]
  },
  {
   "cell_type": "code",
   "execution_count": 0,
   "metadata": {
    "application/vnd.databricks.v1+cell": {
     "cellMetadata": {
      "byteLimit": 2048000,
      "rowLimit": 10000
     },
     "inputWidgets": {},
     "nuid": "77a053b6-8a9a-4bed-bc60-816ccf4d3043",
     "showTitle": false,
     "tableResultSettingsMap": {},
     "title": ""
    }
   },
   "outputs": [],
   "source": [
    "preprocessed_order_items_df = get_preprocessed_order_items(orderitemDf)\n",
    "\n",
    "preprocessed_products_df = get_preprocessed_products(productDf)\n",
    "\n",
    "preprocessed_product_category_df = get_preprocessed_product_category(productcatDf)\n",
    "\n",
    "preprocessed_customer_df = get_preprocessed_customers(customerDf)\n",
    "\n",
    "preprocessed_geo_df=get_preprocessed_geolocation(geoDf)\n",
    "\n",
    "preprocessed_seller_df=get_preprocessed_sellers(sellerDf)\n",
    "\n",
    "preprocessed_payment_df=get_preprocessed_payments(paymentDf)\n",
    "\n",
    "preprocessed_order_df=IncrementalPreProcessor(delta_table_path, silver_table_path)\n",
    "query=preprocessed_order_df.preprocess_stream()\n",
    "query.awaitTermination(30)\n",
    "\n",
    "preprocessed_order_df=spark.readStream.format(\"delta\").load(silver_table_path)"
   ]
  },
  {
   "cell_type": "code",
   "execution_count": 0,
   "metadata": {
    "application/vnd.databricks.v1+cell": {
     "cellMetadata": {
      "byteLimit": 2048000,
      "rowLimit": 10000
     },
     "inputWidgets": {},
     "nuid": "79caa35a-dc8c-450a-9f17-df6886ec001f",
     "showTitle": false,
     "tableResultSettingsMap": {},
     "title": ""
    }
   },
   "outputs": [],
   "source": [
    "# orders_join_df = order_items_join(preprocessed_order_df,preprocessed_order_items_df)\n",
    "\n",
    "# cat_rev_join_df = category_revenue_join(preprocessed_order_df,preprocessed_order_items_df,preprocessed_products_df,preprocessed_product_category_df)\n",
    "\n",
    "# cust_join_df = customer_spending_join(preprocessed_order_df,preprocessed_order_items_df,preprocessed_customer_df)\n",
    "\n",
    "# geo_join_df = geographic_revenue_join(preprocessed_order_df,preprocessed_order_items_df,preprocessed_customer_df,preprocessed_geo_df)\n",
    "\n",
    "# order_seller_df=order_seller_join(preprocessed_order_df,preprocessed_order_items_df,preprocessed_seller_df)\n",
    "\n",
    "order_payments_df=order_payments_join(preprocessed_order_df,preprocessed_payment_df)"
   ]
  },
  {
   "cell_type": "code",
   "execution_count": 0,
   "metadata": {
    "application/vnd.databricks.v1+cell": {
     "cellMetadata": {
      "byteLimit": 2048000,
      "rowLimit": 10000
     },
     "inputWidgets": {},
     "nuid": "1454ca6d-1bb1-4e81-9bcf-3d0900fa4384",
     "showTitle": false,
     "tableResultSettingsMap": {},
     "title": ""
    }
   },
   "outputs": [],
   "source": [
    "# class WorkFlowRunner:\n",
    "#     def __init__(self,name):\n",
    "#         self.name=name\n",
    "#     def runner(self):\n",
    "#         if name==\"TotalRevenueWorkflow\":\n",
    "#             firstworkFlow = TotalRevenueWorkflow()\n",
    "#             return firstworkFlow.runner()\n",
    "#         elif name==\"ProductRevenueWorkflow\":\n",
    "#             secondworkFlow = ProductRevenueWorkflow()\n",
    "#             return secondworkFlow.runner()\n",
    "#         elif name==\"TopSellingWorkflow\":\n",
    "#             thirdworkFlow = TopSellingWorkflow()\n",
    "#             return thirdworkFlow.runner()\n",
    "#         elif name==\"TimelyRevenueWorkflow\":\n",
    "#             fourthworkFlow = TimelyRevenueWorkflow()\n",
    "#             return fourthworkFlow.runner()\n",
    "#         elif name==\"GeoRevenueWorkflow\":\n",
    "#             fifthworkFlow = GeoRevenueWorkflow()\n",
    "#             return fifthworkFlow.runner()\n",
    "#         elif name==\"CustomerValueWorkflow\":\n",
    "#             sixthworkFlow = CustomerValueWorkflow()\n",
    "#             return sixthworkFlow.runner()\n",
    "#         elif name==\"AOVWorkflow\":\n",
    "#             seventhworkFlow = AOVWorkflow()\n",
    "#             return seventhworkFlow.runner()\n",
    "#         elif name==\"ReturnRateWorkflow\":\n",
    "#             eighthworkFlow = ReturnRateWorkflow()\n",
    "#             return eighthworkFlow.runner()\n",
    "#         elif name==\"CustomerRetentionWorkflow\":\n",
    "#             ninthworkFlow = CustomerRetentionWorkflow()\n",
    "#             return ninthworkFlow.runner()"
   ]
  },
  {
   "cell_type": "code",
   "execution_count": 0,
   "metadata": {
    "application/vnd.databricks.v1+cell": {
     "cellMetadata": {
      "byteLimit": 2048000,
      "rowLimit": 10000
     },
     "collapsed": true,
     "inputWidgets": {},
     "nuid": "e3ab1213-ec4c-4780-bf31-c43c62ae407a",
     "showTitle": false,
     "tableResultSettingsMap": {},
     "title": ""
    }
   },
   "outputs": [],
   "source": [
    "# class CustomerRetentionWorkflow:\n",
    "#     def __init__(self):\n",
    "#         pass\n",
    "#     def runner(self):\n",
    "#         Cust_retention = CustomerRetentionTransformer()\n",
    "#         Cust_retentionTransformerDf = Cust_retention.transform(cust_join_df)\n",
    "#         display(Cust_retentionTransformerDf)\n",
    "        \n",
    "#         query=(Cust_retentionTransformerDf.writeStream\n",
    "#                .format(\"delta\")\n",
    "#                .outputMode(\"complete\")\n",
    "#                .option(\"checkpointLocation\", \"abfss://gold@ecommerceproject1.dfs.core.windows.net/Result/cust_retent/checkpoint\")\n",
    "#                .start(\"abfss://gold@ecommerceproject1.dfs.core.windows.net/Result/cust_retent/delta_table\"))\n",
    "#         query.awaitTermination(15)"
   ]
  },
  {
   "cell_type": "code",
   "execution_count": 0,
   "metadata": {
    "application/vnd.databricks.v1+cell": {
     "cellMetadata": {
      "byteLimit": 2048000,
      "rowLimit": 10000
     },
     "inputWidgets": {},
     "nuid": "8a853700-c094-4aa6-9aaf-3082194bd318",
     "showTitle": false,
     "tableResultSettingsMap": {},
     "title": ""
    }
   },
   "outputs": [],
   "source": [
    "# name = \"CustomerRetentionWorkflow\"\n",
    "# workFlowRunner = WorkFlowRunner(name)\n",
    "# workFlowRunner.runner()"
   ]
  },
  {
   "cell_type": "code",
   "execution_count": 0,
   "metadata": {
    "application/vnd.databricks.v1+cell": {
     "cellMetadata": {
      "byteLimit": 2048000,
      "rowLimit": 10000
     },
     "inputWidgets": {},
     "nuid": "834a2347-740d-4ae5-9f32-3c4e33eb5597",
     "showTitle": false,
     "tableResultSettingsMap": {},
     "title": ""
    }
   },
   "outputs": [],
   "source": [
    "# class TotalRevenueWorkflow:\n",
    "#     def __init__(self):\n",
    "#         pass\n",
    "#     def runner(self):\n",
    "#         TotalRevenue = TotalRevenueTransformer()\n",
    "#         TotalRevenueTransformerDf = TotalRevenue.transform(preprocessed_order_items_df)\n",
    "#         display(TotalRevenueTransformerDf)\n",
    "\n",
    "#         TotalRevenueTransformerDf.write.format(\"delta\").mode(\"overwrite\").save(\"abfss://gold@ecommerceproject1.dfs.core.windows.net/Result/total_revenue/delta_table\")"
   ]
  },
  {
   "cell_type": "code",
   "execution_count": 0,
   "metadata": {
    "application/vnd.databricks.v1+cell": {
     "cellMetadata": {
      "byteLimit": 2048000,
      "rowLimit": 10000
     },
     "collapsed": true,
     "inputWidgets": {},
     "nuid": "f7c17b05-0e26-4efb-9b64-e5a47f87c8bb",
     "showTitle": false,
     "tableResultSettingsMap": {},
     "title": ""
    }
   },
   "outputs": [],
   "source": [
    "# name = \"TotalRevenueWorkflow\"\n",
    "# workFlowRunner = WorkFlowRunner(name)\n",
    "# workFlowRunner.runner()"
   ]
  },
  {
   "cell_type": "code",
   "execution_count": 0,
   "metadata": {
    "application/vnd.databricks.v1+cell": {
     "cellMetadata": {
      "byteLimit": 2048000,
      "rowLimit": 10000
     },
     "collapsed": true,
     "inputWidgets": {},
     "nuid": "b977c98e-eb02-4276-a4f2-f1cd8e978e35",
     "showTitle": false,
     "tableResultSettingsMap": {},
     "title": ""
    }
   },
   "outputs": [],
   "source": [
    "# class ProductRevenueWorkflow:\n",
    "#     def __init__(self):\n",
    "#         pass\n",
    "#     def runner(self):\n",
    "#         revenue_by_product_transformer = RevenueByProductCategoryTransformer()\n",
    "#         revenue_result = revenue_by_product_transformer.transform(cat_rev_join_df)\n",
    "#         display(revenue_result)\n",
    "\n",
    "#         query=(revenue_result.writeStream\n",
    "#                .format(\"delta\")\n",
    "#                .outputMode(\"complete\")\n",
    "#                .option(\"mergeSchema\", \"true\")\n",
    "#                .option(\"checkpointLocation\", \"abfss://gold@ecommerceproject1.dfs.core.windows.net/Result/product_revenue/checkpoint\")\n",
    "#                .start(\"abfss://gold@ecommerceproject1.dfs.core.windows.net/Result/product_revenue/delta_table\"))\n",
    "#         query.awaitTermination(15)\n",
    "#         # spark.sql(\"create table if not exists eco.gold.product_revenue location 'abfss://gold@ecommerceproject.dfs.core.windows.net/Result/product_revenue/delta_table'\")\n",
    "#         # gold_df = spark.table(\"eco.gold.product_revenue\")\n",
    "#         # display(gold_df)"
   ]
  },
  {
   "cell_type": "code",
   "execution_count": 0,
   "metadata": {
    "application/vnd.databricks.v1+cell": {
     "cellMetadata": {
      "byteLimit": 2048000,
      "rowLimit": 10000
     },
     "collapsed": true,
     "inputWidgets": {},
     "nuid": "549581ce-41c2-496d-bdd4-fe9897224afe",
     "showTitle": false,
     "tableResultSettingsMap": {},
     "title": ""
    }
   },
   "outputs": [],
   "source": [
    "# name = \"ProductRevenueWorkflow\"\n",
    "# workFlowRunner = WorkFlowRunner(name)\n",
    "# workFlowRunner.runner()"
   ]
  },
  {
   "cell_type": "code",
   "execution_count": 0,
   "metadata": {
    "application/vnd.databricks.v1+cell": {
     "cellMetadata": {
      "byteLimit": 2048000,
      "rowLimit": 10000
     },
     "collapsed": true,
     "inputWidgets": {},
     "nuid": "c7366d3b-0d4b-4817-8120-373c3b97ca9e",
     "showTitle": false,
     "tableResultSettingsMap": {},
     "title": ""
    }
   },
   "outputs": [],
   "source": [
    "# class TopSellingWorkflow:\n",
    "#     def __init__(self):\n",
    "#         pass\n",
    "#     def runner(self):       \n",
    "#         top_selling_transformer = TopSellingProduct()\n",
    "#         top_selling_result = top_selling_transformer.transform(preprocessed_order_items_df)\n",
    "#         display(top_selling_result)\n",
    "\n",
    "#         top_selling_result.write.format(\"delta\").mode(\"overwrite\").save(\"abfss://gold@ecommerceproject1.dfs.core.windows.net/Result/top_product/delta_table\")\n",
    "\n",
    "#         # spark.sql(\"create table if not exists eco.gold.top_product location 'abfss://gold@ecommerceproject.dfs.core.windows.net/Result/top_product/delta_table'\")\n",
    "        \n",
    "#         # gold_df = spark.table(\"eco.gold.top_product\")\n",
    "#         # display(gold_df)        "
   ]
  },
  {
   "cell_type": "code",
   "execution_count": 0,
   "metadata": {
    "application/vnd.databricks.v1+cell": {
     "cellMetadata": {
      "byteLimit": 2048000,
      "rowLimit": 10000
     },
     "collapsed": true,
     "inputWidgets": {},
     "nuid": "99175ccd-7c46-4c81-8334-b41f358638af",
     "showTitle": false,
     "tableResultSettingsMap": {},
     "title": ""
    }
   },
   "outputs": [],
   "source": [
    "# name = \"TopSellingWorkflow\"\n",
    "# workFlowRunner = WorkFlowRunner(name)\n",
    "# workFlowRunner.runner()"
   ]
  },
  {
   "cell_type": "code",
   "execution_count": 0,
   "metadata": {
    "application/vnd.databricks.v1+cell": {
     "cellMetadata": {
      "byteLimit": 2048000,
      "rowLimit": 10000
     },
     "collapsed": true,
     "inputWidgets": {},
     "nuid": "edb7a375-7b66-42c9-b0f9-da0b41512169",
     "showTitle": false,
     "tableResultSettingsMap": {},
     "title": ""
    }
   },
   "outputs": [],
   "source": [
    "# class TimelyRevenueWorkflow:\n",
    "#     def __init__(self):\n",
    "#         pass\n",
    "#     def runner(self):\n",
    "#         revenue_by_time_transformer = RevenueTrendOverTimeTransformer()\n",
    "#         revenue_result = revenue_by_time_transformer.transform(orders_join_df)\n",
    "#         # display(revenue_result)\n",
    "#         # Start writing the transformation output to another table or sink\n",
    "#         query = (revenue_result.writeStream\n",
    "#                  .format(\"delta\")\n",
    "#                  .outputMode(\"complete\")  # Or \"complete\" if doing aggregations\n",
    "#                  .option(\"checkpointLocation\", \"abfss://gold@ecommerceproject1.dfs.core.windows.net/Result/revenue_trend/checkpoint\")\n",
    "#                  .start(\"abfss://gold@ecommerceproject1.dfs.core.windows.net/Result/revenue_trend/delta_table\"))\n",
    "#         query.awaitTermination(15)\n",
    "#         # spark.sql(\"create table if not exists eco.gold.revenue_trend location 'abfss://gold@ecommerceproject.dfs.core.windows.net/Result/revenue_trend/delta_table'\")\n",
    "#         # gold_stream_df = spark.readStream.format(\"delta\").load(\"abfss://gold@ecommerceproject.dfs.core.windows.net/Result/revenue_trend/delta_table\")\n",
    "#         # display(gold_stream_df)"
   ]
  },
  {
   "cell_type": "code",
   "execution_count": 0,
   "metadata": {
    "application/vnd.databricks.v1+cell": {
     "cellMetadata": {
      "byteLimit": 2048000,
      "rowLimit": 10000
     },
     "collapsed": true,
     "inputWidgets": {},
     "nuid": "2ef51cd6-0726-4894-a5cf-6bf765530c96",
     "showTitle": false,
     "tableResultSettingsMap": {},
     "title": ""
    }
   },
   "outputs": [],
   "source": [
    "# name = \"TimelyRevenueWorkflow\"\n",
    "# workFlowRunner = WorkFlowRunner(name)\n",
    "# workFlowRunner.runner()"
   ]
  },
  {
   "cell_type": "code",
   "execution_count": 0,
   "metadata": {
    "application/vnd.databricks.v1+cell": {
     "cellMetadata": {
      "byteLimit": 2048000,
      "rowLimit": 10000
     },
     "collapsed": true,
     "inputWidgets": {},
     "nuid": "5c7b28c3-4b7a-44be-a701-ac6b7ee16fc0",
     "showTitle": false,
     "tableResultSettingsMap": {},
     "title": ""
    }
   },
   "outputs": [],
   "source": [
    "# class GeoRevenueWorkflow:\n",
    "#     def __init__(self):\n",
    "#         pass\n",
    "#     def runner(self):\n",
    "#         revenue_by_state_transformer = GeographicRevenueTransformer()\n",
    "#         revenue_result = revenue_by_state_transformer.transform(geo_join_df)\n",
    "#         display(revenue_result)\n",
    "#         query = (revenue_result.writeStream\n",
    "#                  .format(\"delta\")\n",
    "#                  .outputMode(\"complete\") \n",
    "#                  .option(\"mergeSchema\", \"true\")\n",
    "#                  .option(\"checkpointLocation\", \"abfss://gold@ecommerceproject1.dfs.core.windows.net/Result/geographic_revenue/checkpoint\")\n",
    "#                  .start(\"abfss://gold@ecommerceproject1.dfs.core.windows.net/Result/geographic_revenue/delta_table\"))\n",
    "#         query.awaitTermination(15)\n",
    "#         # spark.sql(\"create table if not exists eco.gold.geographic_revenue location 'abfss://gold@ecommerceproject.dfs.core.windows.net/Result/geographic_revenue/delta_table'\")\n",
    "#         # gold_stream_df = spark.readStream.format(\"delta\").load(\"abfss://gold@ecommerceproject.dfs.core.windows.net/Result/geographic_revenue/delta_table\")\n",
    "#         # display(gold_stream_df)\n",
    "        "
   ]
  },
  {
   "cell_type": "code",
   "execution_count": 0,
   "metadata": {
    "application/vnd.databricks.v1+cell": {
     "cellMetadata": {
      "byteLimit": 2048000,
      "rowLimit": 10000
     },
     "collapsed": true,
     "inputWidgets": {},
     "nuid": "88d2039d-0821-4d76-9e79-60e73985f7ce",
     "showTitle": false,
     "tableResultSettingsMap": {},
     "title": ""
    }
   },
   "outputs": [],
   "source": [
    "# name = \"GeoRevenueWorkflow\"\n",
    "# workFlowRunner = WorkFlowRunner(name)\n",
    "# workFlowRunner.runner()"
   ]
  },
  {
   "cell_type": "code",
   "execution_count": 0,
   "metadata": {
    "application/vnd.databricks.v1+cell": {
     "cellMetadata": {
      "byteLimit": 2048000,
      "rowLimit": 10000
     },
     "inputWidgets": {},
     "nuid": "35b39014-5f37-443b-b9ae-bf1b363428e5",
     "showTitle": false,
     "tableResultSettingsMap": {},
     "title": ""
    }
   },
   "outputs": [],
   "source": [
    "# class CustomerValueWorkflow:\n",
    "#     def __init__(self):\n",
    "#         pass\n",
    "#     def runner(self):\n",
    "#         customer_value_transformer = CustomerValueTransformer()\n",
    "#         revenue_result = customer_value_transformer.transform(cust_join_df)\n",
    "#         display(revenue_result)\n",
    "#         query = (revenue_result.writeStream\n",
    "#                  .format(\"delta\")\n",
    "#                  .outputMode(\"complete\")  \n",
    "#                  .option(\"checkpointLocation\", \"abfss://gold@ecommerceproject1.dfs.core.windows.net/Result/customer_value/checkpoint\")\n",
    "#                  .start(\"abfss://gold@ecommerceproject1.dfs.core.windows.net/Result/customer_value/delta_table\"))\n",
    "#         query.awaitTermination(15)\n",
    "#         # spark.sql(\"create table if not exists eco.gold.customer_value location 'abfss://gold@ecommerceproject.dfs.core.windows.net/Result/customer_value/delta_table'\")\n",
    "#         # gold_stream_df = spark.readStream.format(\"delta\").load(\"abfss://gold@ecommerceproject.dfs.core.windows.net/Result/customer_value/delta_table\")\n",
    "#         # display(gold_stream_df)\n",
    "        "
   ]
  },
  {
   "cell_type": "code",
   "execution_count": 0,
   "metadata": {
    "application/vnd.databricks.v1+cell": {
     "cellMetadata": {
      "byteLimit": 2048000,
      "rowLimit": 10000
     },
     "inputWidgets": {},
     "nuid": "10c63b26-1666-4a70-a068-d14e5a9ec0ea",
     "showTitle": false,
     "tableResultSettingsMap": {},
     "title": ""
    }
   },
   "outputs": [],
   "source": [
    "# name = \"CustomerValueWorkflow\"\n",
    "# workFlowRunner = WorkFlowRunner(name)\n",
    "# workFlowRunner.runner()"
   ]
  },
  {
   "cell_type": "code",
   "execution_count": 0,
   "metadata": {
    "application/vnd.databricks.v1+cell": {
     "cellMetadata": {
      "byteLimit": 2048000,
      "rowLimit": 10000
     },
     "inputWidgets": {},
     "nuid": "3a06c9b0-1230-462c-9b9c-a33e32b11404",
     "showTitle": false,
     "tableResultSettingsMap": {},
     "title": ""
    }
   },
   "outputs": [],
   "source": [
    "# class ReturnRateWorkflow:\n",
    "#     def __init__(self):\n",
    "#         pass \n",
    "#     def runner(self):\n",
    "#         return_rate_transformer = OrderReturnRateTransformer()\n",
    "#         return_rate_result = return_rate_transformer.transform(preprocessed_order_df)\n",
    "#         query=(return_rate_result.writeStream\n",
    "#                .format(\"delta\")\n",
    "#                .outputMode(\"complete\")\n",
    "#                .option(\"mergeSchema\", \"true\")\n",
    "#                .option(\"checkpointLocation\", \"abfss://gold@ecommerceproject1.dfs.core.windows.net/Result/ReturnRate/checkpoint\")\n",
    "#                .start(\"abfss://gold@ecommerceproject1.dfs.core.windows.net/Result/ReturnRate/delta_table\"))\n",
    "#         query.awaitTermination(15)\n",
    "#         # spark.sql(\"\"\"\n",
    "#         #     CREATE TABLE IF NOT EXISTS eco.gold.return_rate \n",
    "#         #     LOCATION 'abfss://gold@ecommerceproject.dfs.core.windows.net/Result/ReturnRate/delta_table'\"\"\")\n",
    "#         # gold_df = spark.table(\"eco.gold.return_rate\")\n",
    "#         # display(gold_df)    \n",
    "#         # return gold_df"
   ]
  },
  {
   "cell_type": "code",
   "execution_count": 0,
   "metadata": {
    "application/vnd.databricks.v1+cell": {
     "cellMetadata": {
      "byteLimit": 2048000,
      "rowLimit": 10000
     },
     "inputWidgets": {},
     "nuid": "c03736cf-dd2e-4d3b-ba02-dc09492e6da9",
     "showTitle": false,
     "tableResultSettingsMap": {},
     "title": ""
    }
   },
   "outputs": [],
   "source": [
    "# name = \"ReturnRateWorkflow\"\n",
    "# workFlowRunner = WorkFlowRunner(name)\n",
    "# workFlowRunner.runner()"
   ]
  },
  {
   "cell_type": "code",
   "execution_count": 0,
   "metadata": {
    "application/vnd.databricks.v1+cell": {
     "cellMetadata": {
      "byteLimit": 2048000,
      "rowLimit": 10000
     },
     "inputWidgets": {},
     "nuid": "717ee1c6-e292-4506-a9b0-7ee54826387a",
     "showTitle": false,
     "tableResultSettingsMap": {},
     "title": ""
    }
   },
   "outputs": [],
   "source": [
    "# class AOVWorkflow:\n",
    "#     def __init__(self):\n",
    "#         pass \n",
    "#     def runner(self):\n",
    "#         aov_transformer = AverageOrderValueTransformer()\n",
    "#         aov_result = aov_transformer.transform(preprocessed_order_items_df)\n",
    "#         aov_result.write.format(\"delta\").mode(\"overwrite\").save(\"abfss://gold@ecommerceproject1.dfs.core.windows.net/Result/aov/delta_table\")\n",
    "#         # spark.sql(\"\"\"\n",
    "#         #     CREATE TABLE IF NOT EXISTS eco.gold.aov \n",
    "#         #     LOCATION 'abfss://gold@ecommerceproject.dfs.core.windows.net/Result/aov/delta_table'\"\"\")\n",
    "#         # gold_df = spark.table(\"eco.gold.aov\")\n",
    "#         # display(gold_df)    \n",
    "#         # return gold_df"
   ]
  },
  {
   "cell_type": "code",
   "execution_count": 0,
   "metadata": {
    "application/vnd.databricks.v1+cell": {
     "cellMetadata": {
      "byteLimit": 2048000,
      "rowLimit": 10000
     },
     "inputWidgets": {},
     "nuid": "c94e3513-cc21-452f-88eb-893a2ae2e504",
     "showTitle": false,
     "tableResultSettingsMap": {},
     "title": ""
    }
   },
   "outputs": [],
   "source": [
    "# name = \"AOVWorkflow\"\n",
    "# workFlowRunner = WorkFlowRunner(name)\n",
    "# workFlowRunner.runner()"
   ]
  }
 ],
 "metadata": {
  "application/vnd.databricks.v1+notebook": {
   "computePreferences": null,
   "dashboards": [
    {
     "elements": [],
     "globalVars": {},
     "guid": "",
     "layoutOption": {
      "grid": true,
      "stack": true
     },
     "nuid": "3e9d56e5-2ecf-4c23-ba37-6d4dee3fa3de",
     "origId": 2330739378558691,
     "title": "Ecommerce",
     "version": "DashboardViewV1",
     "width": 1024
    }
   ],
   "environmentMetadata": {
    "base_environment": "",
    "environment_version": "2"
   },
   "language": "python",
   "notebookMetadata": {
    "mostRecentlyExecutedCommandWithImplicitDF": {
     "commandId": 8440493134491186,
     "dataframes": [
      "_sqldf"
     ]
    },
    "pythonIndentUnit": 4
   },
   "notebookName": "Gold (2)",
   "widgets": {}
  },
  "language_info": {
   "name": "python"
  }
 },
 "nbformat": 4,
 "nbformat_minor": 0
}
