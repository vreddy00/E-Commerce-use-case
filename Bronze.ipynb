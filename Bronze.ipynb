{
 "cells": [
  {
   "cell_type": "code",
   "execution_count": 0,
   "metadata": {
    "application/vnd.databricks.v1+cell": {
     "cellMetadata": {
      "byteLimit": 2048000,
      "rowLimit": 10000
     },
     "inputWidgets": {},
     "nuid": "3f1c9c1b-6e00-4da8-a8d2-aca4c75c2553",
     "showTitle": false,
     "tableResultSettingsMap": {},
     "title": ""
    }
   },
   "outputs": [],
   "source": [
    "%run \"./reader_factory/\""
   ]
  },
  {
   "cell_type": "code",
   "execution_count": 0,
   "metadata": {
    "application/vnd.databricks.v1+cell": {
     "cellMetadata": {
      "byteLimit": 2048000,
      "implicitDf": true,
      "rowLimit": 10000
     },
     "inputWidgets": {},
     "nuid": "6f7559a8-f6a7-42ba-a4b6-a28953d00c04",
     "showTitle": false,
     "tableResultSettingsMap": {},
     "title": ""
    }
   },
   "outputs": [],
   "source": [
    "# %sql\n",
    "# drop table if exists eco.bronze.orders"
   ]
  },
  {
   "cell_type": "code",
   "execution_count": 0,
   "metadata": {
    "application/vnd.databricks.v1+cell": {
     "cellMetadata": {
      "byteLimit": 2048000,
      "rowLimit": 10000
     },
     "inputWidgets": {},
     "nuid": "bdf1a58f-6f81-4e50-80a4-9cd2135bcab6",
     "showTitle": false,
     "tableResultSettingsMap": {},
     "title": ""
    }
   },
   "outputs": [],
   "source": [
    "# dbutils.fs.rm(\"abfss://bronze@ecommerceproject.dfs.core.windows.net/orders\",recurse=True)"
   ]
  },
  {
   "cell_type": "code",
   "execution_count": 0,
   "metadata": {
    "application/vnd.databricks.v1+cell": {
     "cellMetadata": {
      "byteLimit": 2048000,
      "rowLimit": 10000
     },
     "inputWidgets": {},
     "nuid": "ff7f0471-8b1d-467f-9fd1-93e450961717",
     "showTitle": false,
     "tableResultSettingsMap": {},
     "title": ""
    }
   },
   "outputs": [],
   "source": [
    "# dbutils.fs.rm(\"abfss://stream-data@ecommerceproject.dfs.core.windows.net/\",recurse=True)"
   ]
  },
  {
   "cell_type": "code",
   "execution_count": 0,
   "metadata": {
    "application/vnd.databricks.v1+cell": {
     "cellMetadata": {
      "byteLimit": 2048000,
      "rowLimit": 10000
     },
     "inputWidgets": {},
     "nuid": "ae862d39-3753-4519-85e7-2f0837c5d618",
     "showTitle": false,
     "tableResultSettingsMap": {},
     "title": ""
    }
   },
   "outputs": [],
   "source": [
    "dbutils.fs.cp(\"dbfs:/FileStore/tables/stream_write/order_year=2016\",\"abfss://stream-data@ecommerceproject.dfs.core.windows.net/order_year=2016\",recurse=True)"
   ]
  },
  {
   "cell_type": "code",
   "execution_count": 0,
   "metadata": {
    "application/vnd.databricks.v1+cell": {
     "cellMetadata": {
      "byteLimit": 2048000,
      "rowLimit": 10000
     },
     "inputWidgets": {},
     "nuid": "f6f2065c-bad3-45fc-b30e-9f1cbd8b0819",
     "showTitle": false,
     "tableResultSettingsMap": {},
     "title": ""
    }
   },
   "outputs": [],
   "source": [
    "dbutils.fs.cp(\"dbfs:/FileStore/tables/stream_write/order_year=2017\",\"abfss://stream-data@ecommerceproject.dfs.core.windows.net/order_year=2017\",recurse=True)"
   ]
  },
  {
   "cell_type": "code",
   "execution_count": 0,
   "metadata": {
    "application/vnd.databricks.v1+cell": {
     "cellMetadata": {
      "byteLimit": 2048000,
      "rowLimit": 10000
     },
     "inputWidgets": {},
     "nuid": "9a9ec0e8-2831-4879-a577-97123a9aae95",
     "showTitle": false,
     "tableResultSettingsMap": {},
     "title": ""
    }
   },
   "outputs": [],
   "source": [
    "dbutils.fs.cp(\"dbfs:/FileStore/tables/stream_write/order_year=2018\",\"abfss://stream-data@ecommerceproject.dfs.core.windows.net/order_year=2018\",recurse=True)"
   ]
  },
  {
   "cell_type": "markdown",
   "metadata": {
    "application/vnd.databricks.v1+cell": {
     "cellMetadata": {},
     "inputWidgets": {},
     "nuid": "ab500ff9-9c77-4ed2-81f1-143138b8a4f4",
     "showTitle": false,
     "tableResultSettingsMap": {},
     "title": ""
    }
   },
   "source": [
    "# **Reading Batch Data**"
   ]
  },
  {
   "cell_type": "code",
   "execution_count": 0,
   "metadata": {
    "application/vnd.databricks.v1+cell": {
     "cellMetadata": {
      "byteLimit": 2048000,
      "rowLimit": 10000
     },
     "inputWidgets": {},
     "nuid": "3c62e458-72a8-4b1c-847a-06105bed026b",
     "showTitle": false,
     "tableResultSettingsMap": {},
     "title": ""
    }
   },
   "outputs": [],
   "source": [
    "class Extractor:\n",
    "    def __init__(self):\n",
    "        pass\n",
    "    def extract(self):\n",
    "        pass\n",
    "\n",
    "class Order_items(Extractor):\n",
    "    def extract(self):\n",
    "        order_itemsDf = get_DataSource(\"csv\",\"abfss://batch-data@ecommerceproject.dfs.core.windows.net/olist_order_items_dataset.csv\").getDataFrame()\n",
    "        \n",
    "        inputDf = {\"order_itemsDf\":order_itemsDf}\n",
    "\n",
    "        return inputDf\n",
    "    \n",
    "class Customers(Extractor):\n",
    "    def extract(self):\n",
    "        customerDf = get_DataSource(\"csv\",\"abfss://batch-data@ecommerceproject.dfs.core.windows.net/olist_customers_dataset.csv\").getDataFrame()\n",
    "        \n",
    "        inputDf = {\"customerDf\":customerDf}\n",
    "\n",
    "        return inputDf\n",
    "    \n",
    "class Geolocation(Extractor):\n",
    "    def extract(self):\n",
    "        geolocationDf = get_DataSource(\"csv\",\"abfss://batch-data@ecommerceproject.dfs.core.windows.net/olist_geolocation_dataset.csv\").getDataFrame()\n",
    "        \n",
    "        inputDf = {\"geolocationDf\":geolocationDf}\n",
    "\n",
    "        return inputDf\n",
    "    \n",
    "class Products(Extractor):\n",
    "    def extract(self):\n",
    "        products_Df = get_DataSource(\"csv\",\"abfss://batch-data@ecommerceproject.dfs.core.windows.net/olist_products_dataset.csv\").getDataFrame()\n",
    "\n",
    "        inputDf = {\"products_Df\":products_Df}\n",
    "\n",
    "        return inputDf\n",
    "\n",
    "class Products_Category(Extractor):\n",
    "    def extract(self):\n",
    "        categroy_translation_Df = get_DataSource(\"csv\",\"abfss://batch-data@ecommerceproject.dfs.core.windows.net/product_category_name_translation.csv\").getDataFrame()\n",
    "        \n",
    "        inputDf = {\"categroy_translation_Df\":categroy_translation_Df}\n",
    "\n",
    "        return inputDf"
   ]
  },
  {
   "cell_type": "markdown",
   "metadata": {
    "application/vnd.databricks.v1+cell": {
     "cellMetadata": {},
     "inputWidgets": {},
     "nuid": "5f34d629-36a5-40d2-88cb-46cad89378ec",
     "showTitle": false,
     "tableResultSettingsMap": {},
     "title": ""
    }
   },
   "source": [
    "# **Read Streaming Incremental Data using AutoLoader**\n"
   ]
  },
  {
   "cell_type": "code",
   "execution_count": 0,
   "metadata": {
    "application/vnd.databricks.v1+cell": {
     "cellMetadata": {
      "byteLimit": 2048000,
      "rowLimit": 10000
     },
     "inputWidgets": {},
     "nuid": "6a866562-c94d-4f34-af21-1c00259ba659",
     "showTitle": false,
     "tableResultSettingsMap": {},
     "title": ""
    }
   },
   "outputs": [],
   "source": [
    "from pyspark.sql.functions import year, month, col\n",
    "from delta.tables import DeltaTable\n",
    "\n",
    "class StreamingProcessor:\n",
    "    def __init__(self, source_path, bronze_table_path):\n",
    "        self.source_path = source_path\n",
    "        self.bronze_table_path = bronze_table_path\n",
    "        self.delta_table_path = bronze_table_path + \"/delta_table/\"\n",
    "        self.schema_checkpoint = bronze_table_path + \"/schema/\"\n",
    "        self.bronze_checkpoint = bronze_table_path + \"/checkpoints/bronze/\"\n",
    "\n",
    "    def read_streaming_data(self):\n",
    "        # Step 1: Read Incremental Data using AutoLoader\n",
    "        streaming_df = (spark.readStream\n",
    "            .format(\"cloudFiles\")\n",
    "            .option(\"cloudFiles.format\", \"csv\")\n",
    "            .option(\"cloudFiles.schemaLocation\", self.schema_checkpoint)\n",
    "            .option(\"cloudFiles.inferColumnTypes\", \"true\")\n",
    "            .option(\"cloudFiles.schemaEvolutionMode\", \"rescue\")\n",
    "            .option(\"header\", \"true\")\n",
    "            .load(self.source_path))\n",
    "        return streaming_df\n",
    "\n",
    "    def partition_streaming_data(self, df):\n",
    "        # Step 2: Add Partition Columns (Year & Month) for Storage Optimization\n",
    "        partitioned_df = (df\n",
    "            .withColumn(\"order_year\", year(col(\"order_purchase_timestamp\")))\n",
    "            .withColumn(\"order_month\", month(col(\"order_purchase_timestamp\"))))\n",
    "        return partitioned_df\n",
    "\n",
    "    def upsert_to_bronze(self, micro_batch_df, batch_id):\n",
    "        # Step 3: Upsert Function to Merge Data into Bronze Table\n",
    "        if not DeltaTable.isDeltaTable(spark, self.delta_table_path):\n",
    "            print(\" Bronze Delta table not found. Creating a new one...\")\n",
    "            micro_batch_df.write.format(\"delta\").mode(\"overwrite\").partitionBy(\"order_year\", \"order_month\").save(self.delta_table_path)\n",
    "        else:\n",
    "            print(f\" Batch ID {batch_id}: Performing upsert...\")\n",
    "            bronze_table = DeltaTable.forPath(spark, self.delta_table_path)\n",
    "            (bronze_table.alias(\"bronze\")\n",
    "                .merge(micro_batch_df.alias(\"source\"),\n",
    "                       \"bronze.order_id = source.order_id\")\n",
    "                .whenMatchedUpdateAll()\n",
    "                .whenNotMatchedInsertAll()\n",
    "                .execute())\n",
    "\n",
    "    def start_streaming_job(self):\n",
    "        # Initialize Streaming and Upsert Logic\n",
    "        streaming_df = self.read_streaming_data()\n",
    "        partitioned_df = self.partition_streaming_data(streaming_df)\n",
    "        upsert_query = (partitioned_df.writeStream\n",
    "            .foreachBatch(self.upsert_to_bronze)\n",
    "            .outputMode(\"append\")\n",
    "            .option(\"checkpointLocation\", self.bronze_checkpoint)\n",
    "            .trigger(availableNow=True)\n",
    "            .start())\n",
    "        return upsert_query\n",
    "\n",
    "# # Initialize the Streaming Processor\n",
    "source_path = \"abfss://stream-data@ecommerceproject.dfs.core.windows.net/\"\n",
    "bronze_table_path = \"abfss://bronze@ecommerceproject.dfs.core.windows.net/orders\"\n",
    " \n",
    "stream_processor = StreamingProcessor(source_path, bronze_table_path)\n",
    "\n",
    "# Start the streaming job\n",
    "streaming_query = stream_processor.start_streaming_job()\n",
    "streaming_query.awaitTermination(30)\n"
   ]
  },
  {
   "cell_type": "code",
   "execution_count": 0,
   "metadata": {
    "application/vnd.databricks.v1+cell": {
     "cellMetadata": {
      "byteLimit": 2048000,
      "implicitDf": true,
      "rowLimit": 10000
     },
     "inputWidgets": {},
     "nuid": "d59a4f88-873f-41ea-a91a-eb5e3f64a833",
     "showTitle": false,
     "tableResultSettingsMap": {},
     "title": ""
    }
   },
   "outputs": [],
   "source": [
    "# %sql\n",
    "# create schema if not exists eco.bronze"
   ]
  },
  {
   "cell_type": "code",
   "execution_count": 0,
   "metadata": {
    "application/vnd.databricks.v1+cell": {
     "cellMetadata": {
      "byteLimit": 2048000,
      "rowLimit": 10000
     },
     "inputWidgets": {},
     "nuid": "562cad2d-b7ad-4c55-a19f-34e511999f11",
     "showTitle": false,
     "tableResultSettingsMap": {},
     "title": ""
    }
   },
   "outputs": [],
   "source": [
    "# spark.sql(\"\"\"\n",
    "# CREATE TABLE IF NOT EXISTS eco.bronze.orders\n",
    "# USING DELTA\n",
    "# LOCATION 'abfss://bronze@ecommerceproject.dfs.core.windows.net/orders/delta_table/'\n",
    "# \"\"\")\n"
   ]
  }
 ],
 "metadata": {
  "application/vnd.databricks.v1+notebook": {
   "computePreferences": null,
   "dashboards": [],
   "environmentMetadata": {
    "base_environment": "",
    "environment_version": "2"
   },
   "language": "python",
   "notebookMetadata": {
    "mostRecentlyExecutedCommandWithImplicitDF": {
     "commandId": 2652645158221277,
     "dataframes": [
      "_sqldf"
     ]
    },
    "pythonIndentUnit": 4
   },
   "notebookName": "Bronze",
   "widgets": {}
  },
  "language_info": {
   "name": "python"
  }
 },
 "nbformat": 4,
 "nbformat_minor": 0
}
