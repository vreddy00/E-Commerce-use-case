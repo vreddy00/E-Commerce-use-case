{
 "cells": [
  {
   "cell_type": "code",
   "execution_count": 0,
   "metadata": {
    "application/vnd.databricks.v1+cell": {
     "cellMetadata": {
      "byteLimit": 2048000,
      "rowLimit": 10000
     },
     "inputWidgets": {},
     "nuid": "c869c269-6c1b-4796-b000-a1ea79ef51e5",
     "showTitle": false,
     "tableResultSettingsMap": {},
     "title": ""
    }
   },
   "outputs": [],
   "source": [
    "class DataSource:\n",
    "    \"\"\"abstract method\"\"\"\n",
    "    def __init__(self,path):\n",
    "        self.path=path\n",
    "\n",
    "    def getDataFrame(path):\n",
    "        \"\"\"Abstract method\"\"\"\n",
    "        raise ValueError(\"Not Implemented\")\n",
    "    \n",
    "class CSVDataSource(DataSource):\n",
    "    def getDataFrame(self):\n",
    "        return (spark.read.format(\"csv\").option(\"header\",True).option(\"inferSchema\",True).load(self.path))\n",
    "    \n",
    "class ORCDataScource(DataSource):\n",
    "    def getDataFrame(self):\n",
    "        return (spark.read.format(\"parquet\").option(\"inferSchema\",True).load(self.path))\n",
    "\n",
    "class DeltaDataSource(DataSource):\n",
    "    def getDataFrame(self):\n",
    "        return (spark.read.format(\"delta\").option(\"inferSchema\",True).table(self.path))\n",
    "    \n",
    "def get_DataSource(dataType,filePath):\n",
    "    if dataType==\"csv\":\n",
    "        return CSVDataSource(filePath)\n",
    "    elif dataType==\"parquet\":\n",
    "        return ORCDataSource(filePath)\n",
    "    elif dataType==\"delta\":\n",
    "        return DeltaDataSource(filePath)\n",
    "    else:\n",
    "        raise ValueError(f\"DataType Not Supported:{dataType}\")\n"
   ]
  },
  {
   "cell_type": "code",
   "execution_count": 0,
   "metadata": {
    "application/vnd.databricks.v1+cell": {
     "cellMetadata": {},
     "inputWidgets": {},
     "nuid": "e5e3d65a-e9e0-4460-8ebf-5d7dc76facf9",
     "showTitle": false,
     "tableResultSettingsMap": {},
     "title": ""
    }
   },
   "outputs": [],
   "source": []
  }
 ],
 "metadata": {
  "application/vnd.databricks.v1+notebook": {
   "computePreferences": null,
   "dashboards": [],
   "environmentMetadata": {
    "base_environment": "",
    "environment_version": "2"
   },
   "language": "python",
   "notebookMetadata": {
    "pythonIndentUnit": 4
   },
   "notebookName": "reader_factory",
   "widgets": {}
  },
  "language_info": {
   "name": "python"
  }
 },
 "nbformat": 4,
 "nbformat_minor": 0
}
